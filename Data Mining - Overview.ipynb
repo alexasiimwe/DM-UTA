{
 "cells": [
  {
   "cell_type": "markdown",
   "metadata": {},
   "source": [
    "# Data Mining"
   ]
  },
  {
   "cell_type": "markdown",
   "metadata": {},
   "source": [
    "**Hal Varian (2009)**"
   ]
  },
  {
   "cell_type": "markdown",
   "metadata": {},
   "source": [
    "The ability to take data- to be able to understand it, to process it, to extract value from it, visualize it, to communicate it-\n"
   ]
  },
  {
   "cell_type": "markdown",
   "metadata": {},
   "source": [
    "**Mike Driscoll (2009)**"
   ]
  },
  {
   "cell_type": "markdown",
   "metadata": {},
   "source": [
    "Data Mining- possess these skills\n",
    "1. Statistics\n",
    "2. Data Munging\n",
    "3. Data Visualization\n"
   ]
  },
  {
   "cell_type": "markdown",
   "metadata": {},
   "source": [
    "Data Science is the process of:\n",
    "1. formulating a quantitative question that can be answered with data,\n",
    "2. collecting and cleaning the data, \n",
    "3. analysing the data and \n",
    "4. communicating the answer to the question to a relevant audience.\n"
   ]
  },
  {
   "cell_type": "markdown",
   "metadata": {},
   "source": [
    "**Statistics**"
   ]
  },
  {
   "cell_type": "markdown",
   "metadata": {},
   "source": [
    "Statistics is the discipline of analysing data. It intersects heavily with data science, machine learning, and of course, traditional statistical analysis\n",
    "Key activities that define the field:\n",
    "1. Descriptive statistics\n",
    "2. Inference\n",
    "3. Prediction\n"
   ]
  },
  {
   "cell_type": "markdown",
   "metadata": {},
   "source": [
    "**Machine Learning (Neil Lawrence, 2017)** "
   ]
  },
  {
   "cell_type": "markdown",
   "metadata": {},
   "source": [
    "The rise of machine learning is coming about through the availability of data and computation, but machine learning methodologies are fundamentally dependent on models.\n",
    "\n",
    "data + model + compute = prediction\n"
   ]
  },
  {
   "cell_type": "markdown",
   "metadata": {},
   "source": [
    "**Machine Learning Approaches (Neil Lawrence, 2017) **"
   ]
  },
  {
   "cell_type": "markdown",
   "metadata": {},
   "source": [
    "Supervised Learning\n",
    "Learn a model from a given set of input-output pairs, in order to predict the output of new inputs\n",
    "\n",
    "Unsupervised Learning\n",
    "Discover patterns and learn the structure of unlabelled data.\n",
    "Example: clustering\n",
    "\n",
    "Reinforcement Learning\n",
    "Learn what actions to take in a given situation, based on rewards and penalties.\n",
    "Example: consider teaching a dog a new trick: you cannot tell it what to do but you can reward/punish it \n",
    "\n"
   ]
  },
  {
   "cell_type": "markdown",
   "metadata": {},
   "source": [
    "**Components of Data Mining**"
   ]
  },
  {
   "cell_type": "markdown",
   "metadata": {},
   "source": [
    "1. Data Collection\n",
    "2. Data Munging\n",
    "3. Data Analysis\n",
    "4. Data Visualization\n"
   ]
  },
  {
   "cell_type": "code",
   "execution_count": null,
   "metadata": {
    "collapsed": true
   },
   "outputs": [],
   "source": []
  }
 ],
 "metadata": {
  "kernelspec": {
   "display_name": "Python 3",
   "language": "python",
   "name": "python3"
  },
  "language_info": {
   "codemirror_mode": {
    "name": "ipython",
    "version": 3
   },
   "file_extension": ".py",
   "mimetype": "text/x-python",
   "name": "python",
   "nbconvert_exporter": "python",
   "pygments_lexer": "ipython3",
   "version": "3.7.1"
  }
 },
 "nbformat": 4,
 "nbformat_minor": 2
}
